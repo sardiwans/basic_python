{
  "nbformat": 4,
  "nbformat_minor": 0,
  "metadata": {
    "colab": {
      "provenance": [],
      "authorship_tag": "ABX9TyO4Tj+1AWLgBN+BbmiesdB/"
    },
    "kernelspec": {
      "name": "python3",
      "display_name": "Python 3"
    },
    "language_info": {
      "name": "python"
    }
  },
  "cells": [
    {
      "cell_type": "markdown",
      "source": [
        "# **Transformasi Angka, Karakter Pada String**\n",
        "String adalah tipe data pada pemrograman yang merepresentasikan teks, pesan, alamat, atau data teks lainnya."
      ],
      "metadata": {
        "id": "vVBd6jBOylxq"
      }
    },
    {
      "cell_type": "markdown",
      "source": [
        "## Mengubah Huruf Besar/Kecil\n",
        "  > Dalam kategori ini terdapat beberapa metode yang dapat digunakan untuk mengubah string menjadi huruf kapital (UPPERCASE) atau huruf kecil (lowercase). Kedua metode ini, baik upper() maupun lower() adalah metode bawaan dari string Python. Perlu diingat bahwa jika terdapat karakter bukan huruf (seperti simbol atau angka) yang tidak memiliki opsi kapital sehingga karakter tersebut tidak diubah."
      ],
      "metadata": {
        "id": "1Q08pb9Hy8N8"
      }
    },
    {
      "cell_type": "code",
      "execution_count": 143,
      "metadata": {
        "colab": {
          "base_uri": "https://localhost:8080/"
        },
        "id": "li2cdtHGyh0H",
        "outputId": "06593a5b-833d-48cd-a3d9-e159bc147aae"
      },
      "outputs": [
        {
          "output_type": "stream",
          "name": "stdout",
          "text": [
            "Sardiwan\n"
          ]
        }
      ],
      "source": [
        "# Membuat String\n",
        "nama = 'Sardiwan'\n",
        "print(nama)"
      ]
    },
    {
      "cell_type": "code",
      "source": [
        "# Menggunakan Function upper()\n",
        "print(nama.upper())"
      ],
      "metadata": {
        "colab": {
          "base_uri": "https://localhost:8080/"
        },
        "id": "AHBrDopJzYYQ",
        "outputId": "1bf3d3fb-7e40-4b34-d5d4-a52274da9d22"
      },
      "execution_count": 144,
      "outputs": [
        {
          "output_type": "stream",
          "name": "stdout",
          "text": [
            "SARDIWAN\n"
          ]
        }
      ]
    },
    {
      "cell_type": "code",
      "source": [
        "# Menggunakan function lower()\n",
        "print(nama.lower())"
      ],
      "metadata": {
        "colab": {
          "base_uri": "https://localhost:8080/"
        },
        "id": "3N94v0RMzdyj",
        "outputId": "e171abd5-e663-462f-865f-1bd6d7b04a99"
      },
      "execution_count": 145,
      "outputs": [
        {
          "output_type": "stream",
          "name": "stdout",
          "text": [
            "sardiwan\n"
          ]
        }
      ]
    },
    {
      "cell_type": "markdown",
      "source": [
        "## Awalan dan Akhiran\n",
        "> Kategori ini adalah metode dalam string yang biasanya dipergunakan untuk menghapus karakter whitespace pada suatu string. Namun, selain whitespace bisa juga diperuntukkan untuk menghilangkan kata yang tidak diinginkan."
      ],
      "metadata": {
        "id": "7dSpCZ0tzeBQ"
      }
    },
    {
      "cell_type": "code",
      "source": [
        "# Membuat String\n",
        "nama =\"Sardiwan   \"\n",
        "print(nama)"
      ],
      "metadata": {
        "colab": {
          "base_uri": "https://localhost:8080/"
        },
        "id": "oXq0r-Klz-10",
        "outputId": "fad44428-9498-4ad2-92ce-64815c69b774"
      },
      "execution_count": 146,
      "outputs": [
        {
          "output_type": "stream",
          "name": "stdout",
          "text": [
            "Sardiwan   \n"
          ]
        }
      ]
    },
    {
      "cell_type": "code",
      "source": [
        "# Menghapus spasi pada bagian kanan string\n",
        "print(nama.rstrip())"
      ],
      "metadata": {
        "colab": {
          "base_uri": "https://localhost:8080/"
        },
        "id": "VAmtz9mY0OtG",
        "outputId": "0661f613-b826-44cf-c66b-2ece5b6cb802"
      },
      "execution_count": 147,
      "outputs": [
        {
          "output_type": "stream",
          "name": "stdout",
          "text": [
            "Sardiwan\n"
          ]
        }
      ]
    },
    {
      "cell_type": "code",
      "source": [
        "# Membuat String\n",
        "nama =\"     Sardiwan\"\n",
        "print(nama)"
      ],
      "metadata": {
        "colab": {
          "base_uri": "https://localhost:8080/"
        },
        "id": "kVdMitPS0X9s",
        "outputId": "1d73c3f9-eae4-401b-bd10-a104bc672039"
      },
      "execution_count": 148,
      "outputs": [
        {
          "output_type": "stream",
          "name": "stdout",
          "text": [
            "     Sardiwan\n"
          ]
        }
      ]
    },
    {
      "cell_type": "code",
      "source": [
        "# Menghapus spasi pada bagian kiri string\n",
        "print(nama.lstrip())"
      ],
      "metadata": {
        "colab": {
          "base_uri": "https://localhost:8080/"
        },
        "id": "1Lp9ttXc0ej8",
        "outputId": "6c55df25-51a9-47cd-cd44-72622c911247"
      },
      "execution_count": 149,
      "outputs": [
        {
          "output_type": "stream",
          "name": "stdout",
          "text": [
            "Sardiwan\n"
          ]
        }
      ]
    },
    {
      "cell_type": "code",
      "source": [
        "# Membuat String\n",
        "nama = \"    Sardiwan    \"\n",
        "print(nama)"
      ],
      "metadata": {
        "colab": {
          "base_uri": "https://localhost:8080/"
        },
        "id": "XhST-INr0olz",
        "outputId": "20225c91-36d4-47ff-daa0-76ace54d494d"
      },
      "execution_count": 150,
      "outputs": [
        {
          "output_type": "stream",
          "name": "stdout",
          "text": [
            "    Sardiwan    \n"
          ]
        }
      ]
    },
    {
      "cell_type": "code",
      "source": [
        "# Menghapus spasi pada sisi kiri dan kanan string\n",
        "print(nama.strip())"
      ],
      "metadata": {
        "colab": {
          "base_uri": "https://localhost:8080/"
        },
        "id": "7gf05Mf00zCf",
        "outputId": "f7260dc7-2e36-45d8-8a84-3abc1f793c5f"
      },
      "execution_count": 151,
      "outputs": [
        {
          "output_type": "stream",
          "name": "stdout",
          "text": [
            "Sardiwan\n"
          ]
        }
      ]
    },
    {
      "cell_type": "code",
      "source": [
        "# Membuat String\n",
        "nama = \"Sardiwan\"\n",
        "print(nama)"
      ],
      "metadata": {
        "colab": {
          "base_uri": "https://localhost:8080/"
        },
        "id": "T4BiI9TS05ZB",
        "outputId": "2c898023-9891-493c-e069-918e4b6ca188"
      },
      "execution_count": 152,
      "outputs": [
        {
          "output_type": "stream",
          "name": "stdout",
          "text": [
            "Sardiwan\n"
          ]
        }
      ]
    },
    {
      "cell_type": "code",
      "source": [
        "# Menghapus nilai string \"Sar\"\n",
        "print(nama.strip(\"Sar\"))"
      ],
      "metadata": {
        "colab": {
          "base_uri": "https://localhost:8080/"
        },
        "id": "_6m8vEXX1Igd",
        "outputId": "7956e583-611d-4d11-986b-6c26367bd42b"
      },
      "execution_count": 153,
      "outputs": [
        {
          "output_type": "stream",
          "name": "stdout",
          "text": [
            "diwan\n"
          ]
        }
      ]
    },
    {
      "cell_type": "code",
      "source": [
        "# Membuat String\n",
        "nama = \"Sardiwan Simamora\"\n",
        "print(nama)"
      ],
      "metadata": {
        "colab": {
          "base_uri": "https://localhost:8080/"
        },
        "id": "5GqEHlwK1xWh",
        "outputId": "b4fd51d9-ceb5-4ab7-d3ba-ae9315ab82e5"
      },
      "execution_count": 154,
      "outputs": [
        {
          "output_type": "stream",
          "name": "stdout",
          "text": [
            "Sardiwan Simamora\n"
          ]
        }
      ]
    },
    {
      "cell_type": "code",
      "source": [
        "print(nama.startswith(\"Sardiwan\"))"
      ],
      "metadata": {
        "colab": {
          "base_uri": "https://localhost:8080/"
        },
        "id": "LZVIAiiL18u6",
        "outputId": "b2d67357-b651-4301-a3c9-710a864c01d7"
      },
      "execution_count": 155,
      "outputs": [
        {
          "output_type": "stream",
          "name": "stdout",
          "text": [
            "True\n"
          ]
        }
      ]
    },
    {
      "cell_type": "code",
      "source": [
        "print(nama.endswith(\"Sardiwan\"))"
      ],
      "metadata": {
        "colab": {
          "base_uri": "https://localhost:8080/"
        },
        "id": "xFTGPt8X2CRb",
        "outputId": "d6913463-e133-4b55-e7f0-ea22454d1852"
      },
      "execution_count": 156,
      "outputs": [
        {
          "output_type": "stream",
          "name": "stdout",
          "text": [
            "False\n"
          ]
        }
      ]
    },
    {
      "cell_type": "markdown",
      "source": [
        "## Memisahkan dan Menggabungkan String"
      ],
      "metadata": {
        "id": "vRg-jC6K2ObO"
      }
    },
    {
      "cell_type": "code",
      "source": [
        "# Membuat String\n",
        "nama_awal = \"Sardiwan\"\n",
        "nama_akhir = \"Simamora\"\n",
        "print(nama_awal)\n",
        "print(nama_akhir)"
      ],
      "metadata": {
        "colab": {
          "base_uri": "https://localhost:8080/"
        },
        "id": "4p76R8n42Lu5",
        "outputId": "02dc024a-b558-4ddb-b8fd-7b080b5e66a0"
      },
      "execution_count": 157,
      "outputs": [
        {
          "output_type": "stream",
          "name": "stdout",
          "text": [
            "Sardiwan\n",
            "Simamora\n"
          ]
        }
      ]
    },
    {
      "cell_type": "code",
      "source": [
        "print(nama_awal, nama_akhir)"
      ],
      "metadata": {
        "colab": {
          "base_uri": "https://localhost:8080/"
        },
        "id": "tg56poSH2sF4",
        "outputId": "fe2a8600-ce6c-45af-f0a3-4a4cf190b2b4"
      },
      "execution_count": 158,
      "outputs": [
        {
          "output_type": "stream",
          "name": "stdout",
          "text": [
            "Sardiwan Simamora\n"
          ]
        }
      ]
    },
    {
      "cell_type": "code",
      "source": [
        "print(\" \".join([nama_awal, nama_akhir])) # Tanda kutip kosong merupakan delimeter(penanda)"
      ],
      "metadata": {
        "colab": {
          "base_uri": "https://localhost:8080/"
        },
        "id": "wg1FxPPi2eEX",
        "outputId": "adc05d9a-838b-4831-d202-cb0aee77de58"
      },
      "execution_count": 159,
      "outputs": [
        {
          "output_type": "stream",
          "name": "stdout",
          "text": [
            "Sardiwan Simamora\n"
          ]
        }
      ]
    },
    {
      "cell_type": "code",
      "source": [
        "# Membuat string\n",
        "nama_lengkap = \" \".join([nama_awal, nama_akhir])\n",
        "print(nama_lengkap)"
      ],
      "metadata": {
        "colab": {
          "base_uri": "https://localhost:8080/"
        },
        "id": "aN1uH2kr21Pl",
        "outputId": "7d2a9541-1fe3-416e-fcde-a4f5e663d169"
      },
      "execution_count": 160,
      "outputs": [
        {
          "output_type": "stream",
          "name": "stdout",
          "text": [
            "Sardiwan Simamora\n"
          ]
        }
      ]
    },
    {
      "cell_type": "code",
      "source": [
        "# Memisahkan String\n",
        "nama_lengkap.split()"
      ],
      "metadata": {
        "colab": {
          "base_uri": "https://localhost:8080/"
        },
        "id": "fh4LLIP-21Ej",
        "outputId": "e8d84e93-3d2d-4241-cdd7-f3ac27aee7ad"
      },
      "execution_count": 161,
      "outputs": [
        {
          "output_type": "execute_result",
          "data": {
            "text/plain": [
              "['Sardiwan', 'Simamora']"
            ]
          },
          "metadata": {},
          "execution_count": 161
        }
      ]
    },
    {
      "cell_type": "code",
      "source": [
        "# Membuat string\n",
        "nama_lengkap = \"Sardiwan_Simamora\"\n",
        "print(nama_lengkap)"
      ],
      "metadata": {
        "colab": {
          "base_uri": "https://localhost:8080/"
        },
        "id": "LCndfT8J3Vlt",
        "outputId": "87d23ba7-e0b1-4a8a-d662-ba4de71587a1"
      },
      "execution_count": 162,
      "outputs": [
        {
          "output_type": "stream",
          "name": "stdout",
          "text": [
            "Sardiwan_Simamora\n"
          ]
        }
      ]
    },
    {
      "cell_type": "code",
      "source": [
        "# Memisahkan string dengan delimeter\n",
        "print(print(nama_lengkap.split(\" \")))  # Kode ini tidak akan bekerja karena delimeternya tidak terdeteksi"
      ],
      "metadata": {
        "colab": {
          "base_uri": "https://localhost:8080/"
        },
        "id": "-VrLvJeT3jvD",
        "outputId": "9b6e875b-f60e-41a9-c004-bda6ba51b772"
      },
      "execution_count": 163,
      "outputs": [
        {
          "output_type": "stream",
          "name": "stdout",
          "text": [
            "['Sardiwan_Simamora']\n",
            "None\n"
          ]
        }
      ]
    },
    {
      "cell_type": "code",
      "source": [
        "# Memisahkan string dengan delimeter\n",
        "print(nama_lengkap.split(\"_\"))"
      ],
      "metadata": {
        "colab": {
          "base_uri": "https://localhost:8080/"
        },
        "id": "T9N7K53n3zJq",
        "outputId": "e8355479-c1cc-4939-95b6-574162462e80"
      },
      "execution_count": 164,
      "outputs": [
        {
          "output_type": "stream",
          "name": "stdout",
          "text": [
            "['Sardiwan', 'Simamora']\n"
          ]
        }
      ]
    },
    {
      "cell_type": "markdown",
      "source": [
        "## Mengganti Elemen String"
      ],
      "metadata": {
        "id": "UllQgUah4XhV"
      }
    },
    {
      "cell_type": "code",
      "source": [
        "# Membuaat string\n",
        "nama_lengkap = \"Sardiwannn Simamora\"\n",
        "print(nama_lengkap)"
      ],
      "metadata": {
        "colab": {
          "base_uri": "https://localhost:8080/"
        },
        "id": "a3n0C_ws4VO6",
        "outputId": "1efc70e6-7275-4f8a-c953-171bf45384d3"
      },
      "execution_count": 165,
      "outputs": [
        {
          "output_type": "stream",
          "name": "stdout",
          "text": [
            "Sardiwannn Simamora\n"
          ]
        }
      ]
    },
    {
      "cell_type": "code",
      "source": [
        "print(nama_lengkap.replace(\"Sardiwannn\", \"Sardiwan\"))"
      ],
      "metadata": {
        "colab": {
          "base_uri": "https://localhost:8080/"
        },
        "id": "W7g6nvX-4mb8",
        "outputId": "6a6a31b6-81b2-4b03-f0fa-ee86540b9314"
      },
      "execution_count": 166,
      "outputs": [
        {
          "output_type": "stream",
          "name": "stdout",
          "text": [
            "Sardiwan Simamora\n"
          ]
        }
      ]
    },
    {
      "cell_type": "markdown",
      "source": [
        "## Pengecekan String\n",
        "> Kategori selanjutnya bertujuan untuk melakukan pengecekan pada string. Hasil dari kategori ini adalah mengembalikan nilai boolean True/False."
      ],
      "metadata": {
        "id": "1650XU9g4unk"
      }
    },
    {
      "cell_type": "code",
      "source": [
        "# Membuat String\n",
        "nama = \"SARDIWAN\"\n",
        "print(nama)"
      ],
      "metadata": {
        "colab": {
          "base_uri": "https://localhost:8080/"
        },
        "id": "d325qnl14sWj",
        "outputId": "ea8ef3c7-04b2-49f2-a613-b0dd25745302"
      },
      "execution_count": 167,
      "outputs": [
        {
          "output_type": "stream",
          "name": "stdout",
          "text": [
            "SARDIWAN\n"
          ]
        }
      ]
    },
    {
      "cell_type": "code",
      "source": [
        "# Cek String\n",
        "print(nama.isupper())\n",
        "print(nama.islower())"
      ],
      "metadata": {
        "colab": {
          "base_uri": "https://localhost:8080/"
        },
        "id": "A_gabntz46HU",
        "outputId": "a6009737-c90e-44e3-fae1-8fbef53c2179"
      },
      "execution_count": 168,
      "outputs": [
        {
          "output_type": "stream",
          "name": "stdout",
          "text": [
            "True\n",
            "False\n"
          ]
        }
      ]
    },
    {
      "cell_type": "code",
      "source": [
        "# Membuat String\n",
        "nama = \"sardiwan\"\n",
        "print(nama)"
      ],
      "metadata": {
        "colab": {
          "base_uri": "https://localhost:8080/"
        },
        "id": "jeM2NzK-5A8l",
        "outputId": "0a4eb46f-4397-4397-deba-9ff04158422a"
      },
      "execution_count": 169,
      "outputs": [
        {
          "output_type": "stream",
          "name": "stdout",
          "text": [
            "sardiwan\n"
          ]
        }
      ]
    },
    {
      "cell_type": "code",
      "source": [
        "# Cek String\n",
        "print(nama.isupper())\n",
        "print(nama.islower())"
      ],
      "metadata": {
        "colab": {
          "base_uri": "https://localhost:8080/"
        },
        "id": "5rCYk2HN5GXn",
        "outputId": "62dac3be-72c2-4111-c7a9-06dc927cd972"
      },
      "execution_count": 170,
      "outputs": [
        {
          "output_type": "stream",
          "name": "stdout",
          "text": [
            "False\n",
            "True\n"
          ]
        }
      ]
    },
    {
      "cell_type": "code",
      "source": [
        "# Membuat string\n",
        "nama = \"Sardiwan\"\n",
        "print(nama)"
      ],
      "metadata": {
        "colab": {
          "base_uri": "https://localhost:8080/"
        },
        "id": "k1TGI7Rv5KfO",
        "outputId": "c213e8e4-d5ab-4ffb-ad63-ddd5052b641f"
      },
      "execution_count": 171,
      "outputs": [
        {
          "output_type": "stream",
          "name": "stdout",
          "text": [
            "Sardiwan\n"
          ]
        }
      ]
    },
    {
      "cell_type": "code",
      "source": [
        "# Cek string apakah semuanya terdiri dari alphabet\n",
        "print(nama.isalpha())"
      ],
      "metadata": {
        "colab": {
          "base_uri": "https://localhost:8080/"
        },
        "id": "2cHHE2U-5R16",
        "outputId": "fe7ac022-f3d5-4d20-8066-6fd9c1259576"
      },
      "execution_count": 172,
      "outputs": [
        {
          "output_type": "stream",
          "name": "stdout",
          "text": [
            "True\n"
          ]
        }
      ]
    },
    {
      "cell_type": "code",
      "source": [
        "# Membuat string\n",
        "username = \"sardiwans123\"\n",
        "print(username)"
      ],
      "metadata": {
        "colab": {
          "base_uri": "https://localhost:8080/"
        },
        "id": "6whPSfLa5gCu",
        "outputId": "31afb1be-7391-4a17-b92a-3fc95217385b"
      },
      "execution_count": 173,
      "outputs": [
        {
          "output_type": "stream",
          "name": "stdout",
          "text": [
            "sardiwans123\n"
          ]
        }
      ]
    },
    {
      "cell_type": "code",
      "source": [
        "# cek string apakah memuat angka\n",
        "print(username.isalnum())"
      ],
      "metadata": {
        "colab": {
          "base_uri": "https://localhost:8080/"
        },
        "id": "PchJMwYP5oS3",
        "outputId": "f2d391da-7a7a-431a-f9a7-06564a9dee04"
      },
      "execution_count": 174,
      "outputs": [
        {
          "output_type": "stream",
          "name": "stdout",
          "text": [
            "True\n"
          ]
        }
      ]
    },
    {
      "cell_type": "code",
      "source": [
        "# Membuat string\n",
        "username = \"sardiwans123\"\n",
        "print(username)"
      ],
      "metadata": {
        "colab": {
          "base_uri": "https://localhost:8080/"
        },
        "id": "14veMDv051LJ",
        "outputId": "66dc599f-f653-48dd-cd1a-9744e8e8a304"
      },
      "execution_count": 175,
      "outputs": [
        {
          "output_type": "stream",
          "name": "stdout",
          "text": [
            "sardiwans123\n"
          ]
        }
      ]
    },
    {
      "cell_type": "code",
      "source": [
        "# Cek string apakah keseluruhan terdiri dari hanya angka numerik\n",
        "print(username.isdecimal())"
      ],
      "metadata": {
        "colab": {
          "base_uri": "https://localhost:8080/"
        },
        "id": "8nRQ_51X57IV",
        "outputId": "7b893859-88ff-401b-fd15-8876ad16dbaf"
      },
      "execution_count": 176,
      "outputs": [
        {
          "output_type": "stream",
          "name": "stdout",
          "text": [
            "False\n"
          ]
        }
      ]
    },
    {
      "cell_type": "code",
      "source": [
        "# Membuat string\n",
        "error_string = \"    \"\n",
        "print(error_string)"
      ],
      "metadata": {
        "colab": {
          "base_uri": "https://localhost:8080/"
        },
        "id": "V0Ln4rQq6C1h",
        "outputId": "af094fc1-f6d9-46ab-c1a3-fc85bb9dfee6"
      },
      "execution_count": 177,
      "outputs": [
        {
          "output_type": "stream",
          "name": "stdout",
          "text": [
            "    \n"
          ]
        }
      ]
    },
    {
      "cell_type": "code",
      "source": [
        "# Cek string apakah hanya terdiri dari whitespace\n",
        "print(error_string.isspace())"
      ],
      "metadata": {
        "colab": {
          "base_uri": "https://localhost:8080/"
        },
        "id": "V8GIpQOI6MIH",
        "outputId": "92b04d33-dafa-4946-f09a-88c66bcc0cc7"
      },
      "execution_count": 178,
      "outputs": [
        {
          "output_type": "stream",
          "name": "stdout",
          "text": [
            "True\n"
          ]
        }
      ]
    },
    {
      "cell_type": "code",
      "source": [
        "# Membuat String\n",
        "nama_lengkap = \"Sardiwan Simamora\"\n",
        "print(nama_lengkap)"
      ],
      "metadata": {
        "colab": {
          "base_uri": "https://localhost:8080/"
        },
        "id": "bIGqBlT46S3R",
        "outputId": "f8ba4b5b-02be-4ebc-8db6-7f7878ac738b"
      },
      "execution_count": 179,
      "outputs": [
        {
          "output_type": "stream",
          "name": "stdout",
          "text": [
            "Sardiwan Simamora\n"
          ]
        }
      ]
    },
    {
      "cell_type": "code",
      "source": [
        "# Cek String apakah setiap awal kata dimulai dengan huruf kapital\n",
        "print(nama_lengkap.istitle())"
      ],
      "metadata": {
        "colab": {
          "base_uri": "https://localhost:8080/"
        },
        "id": "VjVvzGjJ6bAz",
        "outputId": "ec17cebb-2062-4988-c2d2-7c4f2bbfc514"
      },
      "execution_count": 180,
      "outputs": [
        {
          "output_type": "stream",
          "name": "stdout",
          "text": [
            "True\n"
          ]
        }
      ]
    },
    {
      "cell_type": "markdown",
      "source": [
        "## Formatting Pada String\n"
      ],
      "metadata": {
        "id": "CO4AN35W6mkU"
      }
    },
    {
      "cell_type": "code",
      "source": [
        "# Membuat String\n",
        "nama = \"Sardiwan\"\n",
        "print(nama)"
      ],
      "metadata": {
        "colab": {
          "base_uri": "https://localhost:8080/"
        },
        "id": "kvEoQPRQ6lDe",
        "outputId": "df4dabdd-8b1c-48a5-b471-4a4d3d61dfe0"
      },
      "execution_count": 181,
      "outputs": [
        {
          "output_type": "stream",
          "name": "stdout",
          "text": [
            "Sardiwan\n"
          ]
        }
      ]
    },
    {
      "cell_type": "code",
      "source": [
        "# Menambahkan nilai 0 (nol) pada awal string agar panjang sesuai dengan yang diinginkan\n",
        "print(nama.zfill(10))"
      ],
      "metadata": {
        "colab": {
          "base_uri": "https://localhost:8080/"
        },
        "id": "5ujN7t0e6xru",
        "outputId": "920b8a3b-bd0c-48f4-ad2d-c3cd83828fd9"
      },
      "execution_count": 182,
      "outputs": [
        {
          "output_type": "stream",
          "name": "stdout",
          "text": [
            "00Sardiwan\n"
          ]
        }
      ]
    },
    {
      "cell_type": "code",
      "source": [
        "# Membuat String menjadi rata kanan dengan menambahkan whitespace(nilai default)\n",
        "print(nama.rjust(20))"
      ],
      "metadata": {
        "colab": {
          "base_uri": "https://localhost:8080/"
        },
        "id": "NUU2i1ni7kyR",
        "outputId": "af7a051d-db55-40e4-eeeb-e9381c4242b1"
      },
      "execution_count": 183,
      "outputs": [
        {
          "output_type": "stream",
          "name": "stdout",
          "text": [
            "            Sardiwan\n"
          ]
        }
      ]
    },
    {
      "cell_type": "code",
      "source": [
        "# Membuat String menjadi rata kanan dengan menambahkan tanda seru\n",
        "print(nama.rjust(20, '!'))"
      ],
      "metadata": {
        "colab": {
          "base_uri": "https://localhost:8080/"
        },
        "id": "ZCW-ZLXq7-bv",
        "outputId": "91563c49-d783-406e-edfc-de14b11915c3"
      },
      "execution_count": 184,
      "outputs": [
        {
          "output_type": "stream",
          "name": "stdout",
          "text": [
            "!!!!!!!!!!!!Sardiwan\n"
          ]
        }
      ]
    },
    {
      "cell_type": "code",
      "source": [
        "# Membuat String menjadi rata kiri dengan menambahkan whitespace(nilai default)\n",
        "print(nama.ljust(20))"
      ],
      "metadata": {
        "colab": {
          "base_uri": "https://localhost:8080/"
        },
        "id": "u6jIzwki8MVy",
        "outputId": "7f1bbf6b-3cbe-4169-e5b5-f5151cf56d02"
      },
      "execution_count": 185,
      "outputs": [
        {
          "output_type": "stream",
          "name": "stdout",
          "text": [
            "Sardiwan            \n"
          ]
        }
      ]
    },
    {
      "cell_type": "code",
      "source": [
        "# Membuat String menjadi rata kiri dengan menambahkan tanda seru\n",
        "print(nama.ljust(20, \"!\"))"
      ],
      "metadata": {
        "colab": {
          "base_uri": "https://localhost:8080/"
        },
        "id": "rb3CC1eq8XwM",
        "outputId": "9b02ba01-c3bb-4688-ae48-eb8b4de79d09"
      },
      "execution_count": 186,
      "outputs": [
        {
          "output_type": "stream",
          "name": "stdout",
          "text": [
            "Sardiwan!!!!!!!!!!!!\n"
          ]
        }
      ]
    },
    {
      "cell_type": "code",
      "source": [
        "# Membuat String menjadi rata tengah dengan menambahkan whitespace(nilai default)\n",
        "print(nama.center(20))"
      ],
      "metadata": {
        "colab": {
          "base_uri": "https://localhost:8080/"
        },
        "id": "qUnL_vSf8ebi",
        "outputId": "c3a08926-a33a-40ef-e7d1-b2ec1655d27e"
      },
      "execution_count": 187,
      "outputs": [
        {
          "output_type": "stream",
          "name": "stdout",
          "text": [
            "      Sardiwan      \n"
          ]
        }
      ]
    },
    {
      "cell_type": "code",
      "source": [
        "# Membuat String menjadi rata tengah dengan menambahkan tanda seru\n",
        "print(nama.center(20, \"!\"))"
      ],
      "metadata": {
        "colab": {
          "base_uri": "https://localhost:8080/"
        },
        "id": "l3OorG5E8mW_",
        "outputId": "976fdf45-9683-45ec-b477-5b2d4302cfcd"
      },
      "execution_count": 188,
      "outputs": [
        {
          "output_type": "stream",
          "name": "stdout",
          "text": [
            "!!!!!!Sardiwan!!!!!!\n"
          ]
        }
      ]
    },
    {
      "cell_type": "markdown",
      "source": [
        "## String Literals\n",
        "> Umumnya, string ditulis dengan mudah di Python, diapit oleh tanda petik tunggal. Namun, dalam kondisi tertentu, dibutuhkan petik tunggal di tengah string (misalnya, struktur kepemilikan dalam bahasa Inggris—Sardiwan's Cat atau penyebutan Jum'at pada hari dalam bahasa Indonesia).\n",
        "\n",
        "Misalnya, kita menuliskannya sebagai berikut.\n",
        "\n",
        "    1.st1 = 'Jum'at'\n",
        "Python akan salah mengira bahwa string berakhir setelah huruf m dan selebihnya merupakan kode yang invalid. Namun, Python memperbolehkan untuk menggunakan petik dua seperti Anda menggunakan petik tunggal. Dalam kasus sebelumnya, Anda cukup mengetik seperti berikut.\n",
        "\n",
        "    1.st1 = \"Jum'at\"\n",
        "\n",
        "Dalam contoh di atas, Python mengenali bahwa petik tunggal adalah bagian tidak terpisahkan dari string tersebut. Bagaimana jika kita memerlukan kedua jenis petik dalam string tunggal? Python menyediakan escape character.\n",
        "\n",
        "Escape character memungkinkan Anda untuk menggunakan karakter yang sebelumnya tidak bisa dimasukkan dalam string. Umumnya diawali dengan backslash (\\) dan diikuti karakter tertentu yang diinginkan. Contohnya, untuk petik tunggal Anda dapat menambahkan \\'.\n",
        "\n",
        "Ini merupakan cara paling aman untuk melakukan penambahan atau penyuntingan dalam variabel. Contohnya berikut.\n",
        "\n",
        "    1.st1 = 'Jum\\'at'\n",
        "Python mengetahui bahwa pada Jum\\'at, sebelum petik terdapat backslash (\\) yang menandakan petik tunggal sebagai bagian dari string dan bukan akhir dari string. Escape character \\' dan \\\" memungkinkan Anda untuk memasukkan karakter ' dan '' dalam bagian string. Beberapa contoh escape character lainnya sebagai berikut.\n",
        "\n",
        "    \\' Single quote\n",
        "    \\\" Double quote\n",
        "    \\t Tab\n",
        "    \\n Newline (line break)\n",
        "    \\\\ Backslash"
      ],
      "metadata": {
        "id": "zqwpH9R-80qX"
      }
    },
    {
      "cell_type": "code",
      "source": [
        "print(\"Halo!\\nKapan terakhir kali kita bertemu?\\nKita bertemu hari Jum\\'at yang lalu.\")"
      ],
      "metadata": {
        "colab": {
          "base_uri": "https://localhost:8080/"
        },
        "id": "DC2IGEz_8tYS",
        "outputId": "f2b7f88b-7bf4-4a2a-bdfd-0baf300bfaa4"
      },
      "execution_count": 189,
      "outputs": [
        {
          "output_type": "stream",
          "name": "stdout",
          "text": [
            "Halo!\n",
            "Kapan terakhir kali kita bertemu?\n",
            "Kita bertemu hari Jum'at yang lalu.\n"
          ]
        }
      ]
    },
    {
      "cell_type": "markdown",
      "source": [
        "Pada kode di atas, Anda menampilkan baris teks dalam satu baris kode menggunakan escape character \"\\n\". Jadi, ketika teks tersebut muncul pada layar akan menampilkan baris teks yang awalnya hanya satu baris menjadi tiga baris dan dipisahkan oleh line break."
      ],
      "metadata": {
        "id": "9QUOZic_9s_E"
      }
    },
    {
      "cell_type": "markdown",
      "source": [
        "## Raw String\n",
        "\n",
        "Python juga menyediakan cara untuk mencetak string sesuai dengan apa pun input atau teks yang diberikan. Metode ini dinamakan raw strings. Umumnya, ia digunakan untuk regex atau beberapa implementasi lain yang sangat bergantung pada keberadaan backslash. Untuk mengimplementasikan raw strings, sisipkan huruf r sebelum pembuka string.\n",
        "\n",
        "    print(r'Sardiwan\\tSimamora')\n",
        "\n",
        "    \"\"\"\n",
        "    Output:\n",
        "    Sardiwan\\tSimamora\n",
        "\n",
        "    \"\"\"\n",
        "Pada kode di atas, Anda menampilkan raw string dari \"Sardiwan\\tSimamora\". Perhatikan bahwa escape character (\\t) ikut tercetak pada teks tersebut. Hal ini karena raw string akan mencetak string sesuai dengan apa pun input atau teks yang diberikan"
      ],
      "metadata": {
        "id": "s1SpOb0f9uwB"
      }
    },
    {
      "cell_type": "markdown",
      "source": [
        "#**End Of Notebook**\n"
      ],
      "metadata": {
        "id": "WXBfZI1494F6"
      }
    }
  ]
}