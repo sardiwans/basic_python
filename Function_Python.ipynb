{
  "nbformat": 4,
  "nbformat_minor": 0,
  "metadata": {
    "colab": {
      "provenance": [],
      "authorship_tag": "ABX9TyN0Ov3oyx5zPa7HKLZoAHFP"
    },
    "kernelspec": {
      "name": "python3",
      "display_name": "Python 3"
    },
    "language_info": {
      "name": "python"
    }
  },
  "cells": [
    {
      "cell_type": "markdown",
      "source": [
        "#**`Function Python`**\n",
        "\n",
        " Function adalah kode program yang dirancang untuk menyelesaikan sebuah tugas tertentu, dan merupakan bagian dari program utama"
      ],
      "metadata": {
        "id": "OMp-KCb0DWIz"
      }
    },
    {
      "cell_type": "markdown",
      "source": [
        "## **Built-in Function**\n",
        "\n",
        "Built-In Function adalah sebutan untuk fungsi yang sudah ada secara bawaan dari dalam bahasa pemrograman, seperti :\n",
        "len(), type(), dll"
      ],
      "metadata": {
        "id": "kEtSTkWkDjrc"
      }
    },
    {
      "cell_type": "code",
      "source": [
        "# Contoh Penggunaan Built-in Function\n",
        "tuple1 = (1, 2, 3, 4 ,5)\n",
        "print(len(tuple1)) # Built-in Function untuk cek panjang tuple\n",
        "print(type(tuple1)) # Built-in Function untuk cek tipe data"
      ],
      "metadata": {
        "colab": {
          "base_uri": "https://localhost:8080/"
        },
        "id": "pAVE6wuWDjeS",
        "outputId": "43417bfd-3ca6-4dcf-802b-3cbfeddd1d68"
      },
      "execution_count": 5,
      "outputs": [
        {
          "output_type": "stream",
          "name": "stdout",
          "text": [
            "5\n",
            "<class 'tuple'>\n"
          ]
        }
      ]
    },
    {
      "cell_type": "markdown",
      "source": [
        "# **User Defined Function**\n",
        "User Defined Function adalah fungsi yang kita (sebagai programmer) membuatnya sendiri."
      ],
      "metadata": {
        "id": "RlgueK0xEz9E"
      }
    },
    {
      "cell_type": "markdown",
      "source": [
        "### **Function Syntax**\n",
        "1. `Function Name` adalah nama dari function\n",
        "2. `Argument adalah` nilai yang diberikan ke function\n",
        "3. `Function Body` adalah isi dari sebuah function\n",
        "4. `Return Value` adalah hasil yang dikembalikan oleh function"
      ],
      "metadata": {
        "id": "JytipZALFWYW"
      }
    },
    {
      "cell_type": "code",
      "execution_count": 8,
      "metadata": {
        "id": "eDlexRqSCZPz"
      },
      "outputs": [],
      "source": [
        "# Membuat Function (Create)\n",
        "def halo(): # Nama Function\n",
        "  print(\"Halo Sardiwan\") # Argument"
      ]
    },
    {
      "cell_type": "code",
      "source": [
        "# Memanggil Function(Call)\n",
        "halo() # Memanggil function"
      ],
      "metadata": {
        "colab": {
          "base_uri": "https://localhost:8080/"
        },
        "id": "2_fGEXTjGK4W",
        "outputId": "90454928-d4fe-4a20-a92f-5cd5137e5bcb"
      },
      "execution_count": 9,
      "outputs": [
        {
          "output_type": "stream",
          "name": "stdout",
          "text": [
            "Halo Sardiwan\n"
          ]
        }
      ]
    },
    {
      "cell_type": "code",
      "source": [
        "# Membuat Function dengan Parameter (Passing Argument)\n",
        "def halo_nama(nama): # Nama Function dan parameter didalam kurung\n",
        "  print(\"Hallo \" + nama) # Argument"
      ],
      "metadata": {
        "id": "QyWuiUN6Garw"
      },
      "execution_count": 10,
      "outputs": []
    },
    {
      "cell_type": "code",
      "source": [
        "# halo_nama() # Akan error karena membutuhkan nilai didalam kurung yaitu nilai dari nama\n",
        "halo_nama(\"Sardiwan\") # Akan mengembalikan nilai"
      ],
      "metadata": {
        "colab": {
          "base_uri": "https://localhost:8080/"
        },
        "id": "y2aiINGeGq0-",
        "outputId": "ce73de54-a859-4d13-a23d-dd7590f54636"
      },
      "execution_count": 11,
      "outputs": [
        {
          "output_type": "stream",
          "name": "stdout",
          "text": [
            "Hallo Sardiwan\n"
          ]
        }
      ]
    },
    {
      "cell_type": "code",
      "source": [
        "# Membuat Function dengan Parameter (Passing Argument) lebih dari satu\n",
        "def halo_halo(nama, umur): # Nama Function dan parameter didalam kurung\n",
        "  print(\"Nama saya : \" + nama + \" , Umur saya : \" +  str(umur) + \" tahun\") # Argument"
      ],
      "metadata": {
        "id": "UmDmPRfpHB-7"
      },
      "execution_count": 14,
      "outputs": []
    },
    {
      "cell_type": "code",
      "source": [
        "# halo_halo(\"Sardiwan\") # Ini akan error karena function membutuhkan 2 parameter yaitu nama dan umur\n",
        "halo_halo(\"Sardiwan\", 22) # Akan mengembalikan nilai"
      ],
      "metadata": {
        "colab": {
          "base_uri": "https://localhost:8080/"
        },
        "id": "8NJHrd5sHc1H",
        "outputId": "5db9b540-cd18-42aa-a04e-d9beb8158fc4"
      },
      "execution_count": 15,
      "outputs": [
        {
          "output_type": "stream",
          "name": "stdout",
          "text": [
            "Nama saya : Sardiwan , Umur saya : 22 tahun\n"
          ]
        }
      ]
    },
    {
      "cell_type": "code",
      "source": [
        "# Membuat function dengan return value\n",
        "def tambahkan5(x): # Nama function dan parameter\n",
        "  return x+5 # Argument"
      ],
      "metadata": {
        "id": "AT-hmBXyH8ln"
      },
      "execution_count": 18,
      "outputs": []
    },
    {
      "cell_type": "code",
      "source": [
        "print(tambahkan5(10)) # Hasilnya akan menjadi 15 karena 10 + 5"
      ],
      "metadata": {
        "colab": {
          "base_uri": "https://localhost:8080/"
        },
        "id": "xVzVO47VIZz7",
        "outputId": "f71a878b-e3b2-401e-ec96-2b02d6f0f219"
      },
      "execution_count": 17,
      "outputs": [
        {
          "output_type": "stream",
          "name": "stdout",
          "text": [
            "15\n"
          ]
        }
      ]
    },
    {
      "cell_type": "code",
      "source": [
        "# Membuat function dengan return value\n",
        "def tambahkan10(x): # Nama function dan parameter\n",
        "  total = x + 10 # Argument\n",
        "  return total"
      ],
      "metadata": {
        "id": "iC4pPDePIhNE"
      },
      "execution_count": 19,
      "outputs": []
    },
    {
      "cell_type": "code",
      "source": [
        "print(tambahkan10(15)) # Hasilnya akan menjadi 25 karena 15 + 10"
      ],
      "metadata": {
        "colab": {
          "base_uri": "https://localhost:8080/"
        },
        "id": "wpKo0NqGI__0",
        "outputId": "a9ead096-7ca1-4d00-ab4c-3122acb4b06f"
      },
      "execution_count": 20,
      "outputs": [
        {
          "output_type": "stream",
          "name": "stdout",
          "text": [
            "25\n"
          ]
        }
      ]
    },
    {
      "cell_type": "markdown",
      "source": [
        "### **Lambda Function**"
      ],
      "metadata": {
        "id": "QQ-BX_X1H82o"
      }
    },
    {
      "cell_type": "code",
      "source": [
        "# Membuat lambda function\n",
        "tambahkan1 = lambda x: x + 1 # x pertama adalah parameternya dan x + 1 adalah argumentnya"
      ],
      "metadata": {
        "id": "B3gLgVuoJIJ_"
      },
      "execution_count": 21,
      "outputs": []
    },
    {
      "cell_type": "code",
      "source": [
        "print(tambahkan1(2)) # Hasilnya akan menjadi 3 karena 2 + 1"
      ],
      "metadata": {
        "colab": {
          "base_uri": "https://localhost:8080/"
        },
        "id": "hN1T-pWXJuWl",
        "outputId": "d8ccdd48-bed0-40ee-e29a-5800e44383be"
      },
      "execution_count": 22,
      "outputs": [
        {
          "output_type": "stream",
          "name": "stdout",
          "text": [
            "3\n"
          ]
        }
      ]
    },
    {
      "cell_type": "markdown",
      "source": [
        "# **END OF NOTEBOOK**"
      ],
      "metadata": {
        "id": "V53m-vtSJ0FX"
      }
    }
  ]
}